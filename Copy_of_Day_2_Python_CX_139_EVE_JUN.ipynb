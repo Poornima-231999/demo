{
  "nbformat": 4,
  "nbformat_minor": 0,
  "metadata": {
    "colab": {
      "provenance": [],
      "include_colab_link": true
    },
    "kernelspec": {
      "name": "python3",
      "display_name": "Python 3"
    },
    "language_info": {
      "name": "python"
    }
  },
  "cells": [
    {
      "cell_type": "markdown",
      "metadata": {
        "id": "view-in-github",
        "colab_type": "text"
      },
      "source": [
        "<a href=\"https://colab.research.google.com/github/Poornima-231999/demo/blob/main/Copy_of_Day_2_Python_CX_139_EVE_JUN.ipynb\" target=\"_parent\"><img src=\"https://colab.research.google.com/assets/colab-badge.svg\" alt=\"Open In Colab\"/></a>"
      ]
    },
    {
      "cell_type": "markdown",
      "source": [
        "# Data Types in Python\n",
        "![datatypes.jpeg](data:image/jpeg;base64,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)"
      ],
      "metadata": {
        "id": "H7-1MIIT7J1k"
      }
    },
    {
      "cell_type": "markdown",
      "source": [
        "# Conditional Statements in Python"
      ],
      "metadata": {
        "id": "sXUtcuO4XcJV"
      }
    },
    {
      "cell_type": "markdown",
      "source": [
        "# 1. 'if' Statement"
      ],
      "metadata": {
        "id": "9AovmN39YrLN"
      }
    },
    {
      "cell_type": "code",
      "source": [
        "# check if age is greater than or equal to 18\n",
        "\n",
        "\n"
      ],
      "metadata": {
        "id": "5i53SYgjYOcF"
      },
      "execution_count": null,
      "outputs": []
    },
    {
      "cell_type": "markdown",
      "source": [
        "# 'if-else' Conditional Statement"
      ],
      "metadata": {
        "id": "ER4pusdsY-f5"
      }
    },
    {
      "cell_type": "code",
      "source": [
        " # compare between two numbers\n",
        "\n",
        "\n"
      ],
      "metadata": {
        "id": "0VpPpfBSihTF"
      },
      "execution_count": null,
      "outputs": []
    },
    {
      "cell_type": "markdown",
      "source": [
        "#'if-elif-else'"
      ],
      "metadata": {
        "id": "QovM1ZWpi5vM"
      }
    },
    {
      "cell_type": "code",
      "source": [
        "# Assign grades based on scores >80 A grade, 60 and < 80\n",
        "\n"
      ],
      "metadata": {
        "id": "Jti3pz42jHDx"
      },
      "execution_count": null,
      "outputs": []
    },
    {
      "cell_type": "markdown",
      "source": [
        "# Nested 'if-else'"
      ],
      "metadata": {
        "id": "e_usLRvEjrr1"
      }
    },
    {
      "cell_type": "code",
      "source": [
        "# Check whether number is positive/negative and even/odd\n",
        "\n",
        "\n"
      ],
      "metadata": {
        "id": "aFhYOlHJjwXL"
      },
      "execution_count": null,
      "outputs": []
    },
    {
      "cell_type": "code",
      "source": [],
      "metadata": {
        "id": "nlt_2SoDxlHK"
      },
      "execution_count": null,
      "outputs": []
    },
    {
      "cell_type": "code",
      "source": [],
      "metadata": {
        "id": "XhpeQ0m8xlDy"
      },
      "execution_count": null,
      "outputs": []
    },
    {
      "cell_type": "code",
      "source": [],
      "metadata": {
        "id": "z3KXejBixkxl"
      },
      "execution_count": null,
      "outputs": []
    },
    {
      "cell_type": "markdown",
      "source": [
        "# Loops in Python\n",
        "Loops enable you to perform repetitive tasks efficiently without writing redundant code. They iterate over a sequence (like a list, tuple, string, or range) or execute a block of code as long as a specific condition is met.\n",
        "Types of Loops in Python\n",
        "1. While loop\n",
        "2. For loop\n",
        "3. Nested loop\n"
      ],
      "metadata": {
        "id": "ubn1W9uzdB8e"
      }
    },
    {
      "cell_type": "markdown",
      "source": [
        "# While Loop :\n",
        " The while loop repeatedly executes a block of code as long as a given condition remains True. It checks the condition before each iteration.<br>\n",
        "Syntax: <br>\n",
        " initial value<br>\n",
        " while condition:<br>\n",
        "             &nbsp;  &nbsp;  &nbsp; &nbsp;   Code block to execute Example:\n"
      ],
      "metadata": {
        "id": "XCWL84DFdYIK"
      }
    },
    {
      "cell_type": "code",
      "source": [
        "# Print numbers from 1 to 10 start=1 end 10\n",
        "\n"
      ],
      "metadata": {
        "id": "DIZuBSU2dFXF"
      },
      "execution_count": null,
      "outputs": []
    },
    {
      "cell_type": "code",
      "source": [
        "# print 10 to 1 initial value=10 1\n",
        "\n"
      ],
      "metadata": {
        "id": "tmae8Aj5dFzl"
      },
      "execution_count": null,
      "outputs": []
    },
    {
      "cell_type": "code",
      "source": [
        "# Write a program to print even numbers in range 1 to 50 while and if\n",
        "\n",
        "\n"
      ],
      "metadata": {
        "id": "3W1LPjeUzzDs"
      },
      "execution_count": null,
      "outputs": []
    },
    {
      "cell_type": "markdown",
      "source": [
        "# For Loop\n",
        "The for loop in Python is used to iterate over a sequence (such as a list, tuple, dictionary, set, or string) and execute a block of code for each element in that sequence. <br>\n",
        "Syntax: <br>\n",
        "for variable in sequence:<br>\n",
        "      &nbsp; &nbsp; &nbsp; &nbsp; Code block to execute\n"
      ],
      "metadata": {
        "id": "yfw7M266d7Rt"
      }
    },
    {
      "cell_type": "code",
      "source": [
        "# print numbers in range 1 to 10\n"
      ],
      "metadata": {
        "id": "9992Zj8sdFlP"
      },
      "execution_count": null,
      "outputs": []
    },
    {
      "cell_type": "code",
      "source": [
        "# print numbers in range 1 to 10\n",
        "\n"
      ],
      "metadata": {
        "id": "w8oq5g2-eOVm"
      },
      "execution_count": null,
      "outputs": []
    },
    {
      "cell_type": "code",
      "source": [
        "# print alternate number in range 4 to including 16 # 4,6,8\n",
        "\n",
        "\n"
      ],
      "metadata": {
        "id": "0ISKkMM6eRVs"
      },
      "execution_count": null,
      "outputs": []
    },
    {
      "cell_type": "code",
      "source": [
        "# string, list,tuple\n",
        "\n"
      ],
      "metadata": {
        "id": "aEFRyEd4eWhV"
      },
      "execution_count": null,
      "outputs": []
    },
    {
      "cell_type": "code",
      "source": [
        "\n"
      ],
      "metadata": {
        "id": "ZqzgQAaM3_Jc"
      },
      "execution_count": null,
      "outputs": []
    },
    {
      "cell_type": "markdown",
      "source": [
        "# Loop Control Statements\n",
        "• pass statement <br>\n",
        "• break Statement <br>\n",
        "• continue Statement <br>\n"
      ],
      "metadata": {
        "id": "KNd2d-DNeOIl"
      }
    },
    {
      "cell_type": "markdown",
      "source": [
        "\n",
        "# pass statement\n",
        "\n",
        "When x > 5, the pass statement is executed, meaning nothing happens.<br>\n",
        "If x <= 5, the else block runs, printing \"x is 5 or less\".<br>\n",
        "pass allows the code to compile and run without errors, even though the if block is currently empty.\n",
        "\n",
        "\n"
      ],
      "metadata": {
        "id": "BCHTAbi5eODw"
      }
    },
    {
      "cell_type": "code",
      "source": [
        "\n",
        "\n"
      ],
      "metadata": {
        "id": "s4Jb2k__esXo"
      },
      "execution_count": null,
      "outputs": []
    },
    {
      "cell_type": "markdown",
      "source": [
        "# break statement"
      ],
      "metadata": {
        "id": "Ri1dU4tGfaGT"
      }
    },
    {
      "cell_type": "code",
      "source": [
        "\n",
        "\n",
        "\n"
      ],
      "metadata": {
        "id": "1bbfWMLrfac7"
      },
      "execution_count": null,
      "outputs": []
    },
    {
      "cell_type": "markdown",
      "source": [
        "# continue statement"
      ],
      "metadata": {
        "id": "L73FpUiYfjiw"
      }
    },
    {
      "cell_type": "code",
      "source": [
        "\n"
      ],
      "metadata": {
        "id": "3DxuvkD1fjvW"
      },
      "execution_count": null,
      "outputs": []
    },
    {
      "cell_type": "markdown",
      "source": [
        "# List in Python\n",
        "• What is List <br>\n",
        ":A list in Python is a collection of items (elements) that are ordered, changeable\n",
        "(mutable), and allow duplicate elements.\n",
        "Lists are one of the most versatile data structures in Python and are used to store\n",
        "multiple items in a single variable.<br>\n"
      ],
      "metadata": {
        "id": "noCZGhmZkQPz"
      }
    },
    {
      "cell_type": "markdown",
      "source": [
        "• Create Lists <br>\n",
        "• Access List: Indexing & Slicing <br>\n",
        "• Modify List <br>\n",
        "• List Methods <br>\n",
        "• Join Lists <br>\n",
        "• List Comprehensions <br>\n"
      ],
      "metadata": {
        "id": "8VtvedddlyqI"
      }
    },
    {
      "cell_type": "code",
      "source": [
        "# variable_name= [1,2,3,4,\"Pune\",52.23],"
      ],
      "metadata": {
        "id": "uY_r7Y9AnakP"
      },
      "execution_count": null,
      "outputs": []
    },
    {
      "cell_type": "markdown",
      "source": [
        ",# List Creation"
      ],
      "metadata": {
        "id": "w7hRtpNE7r5u"
      }
    },
    {
      "cell_type": "code",
      "source": [
        "# Empty List\n",
        "list1=list()\n",
        "print(list1)\n",
        "int_list = [1, 2, 3, 4, 5]\n",
        "print(int_list)\n",
        "float_list = [1.1, 2.5, 3.14, 4.0, 5.9]\n",
        "print(float_list)\n",
        "string_list = [\"apple\", \"banana\", \"cherry\", \"date\"]\n",
        "print(string_list)\n",
        "mixed_list = [1, \"hello\", 3.5, True]\n",
        "print(mixed_list)"
      ],
      "metadata": {
        "id": "Lk0Rgbssl5xn"
      },
      "execution_count": null,
      "outputs": []
    },
    {
      "cell_type": "code",
      "source": [
        "# Ordered Datatype\n",
        "# positional value index value\n"
      ],
      "metadata": {
        "id": "Kkj7rx7mn87B"
      },
      "execution_count": null,
      "outputs": []
    },
    {
      "cell_type": "markdown",
      "source": [
        "# Accessing List Elements"
      ],
      "metadata": {
        "id": "6lGMRmwh7mku"
      }
    },
    {
      "cell_type": "code",
      "source": [
        "\n",
        "fruits = [\"apple\", \"orange\", \"cherry\", \"apple\", \"mango\"]\n",
        " # Access first element\n",
        "\n",
        "# Access third element\n",
        "\n",
        "# using negative indexing\n",
        "\n",
        "\n",
        "# Access last element using negative index\n",
        "\n",
        "\n",
        "# access 'orange' using negative index\n",
        "\n"
      ],
      "metadata": {
        "id": "LPcEJP8E6Dmx"
      },
      "execution_count": null,
      "outputs": []
    },
    {
      "cell_type": "code",
      "source": [],
      "metadata": {
        "id": "1iCHByscroQ9"
      },
      "execution_count": null,
      "outputs": []
    },
    {
      "cell_type": "markdown",
      "source": [
        "# List Slicing:"
      ],
      "metadata": {
        "id": "YQXA5UPu7jRW"
      }
    },
    {
      "cell_type": "code",
      "source": [
        "\n",
        "\"\"\"\n",
        "list_name[start:stop:step]\n",
        "list_name[start:stop] [:3] n-1\n",
        "\"\"\"\n",
        "numbers = [10, 20, 30, 40, 50, 60]\n",
        "# Slice from index 1 to 3 20,30,40\n",
        "\n",
        "\n",
        "# Output: [20, 30, 40]\n",
        "# Slice from start to index 2 # 10,20,30\n",
        "\n",
        "\n",
        "# Slice all alternate elements\n",
        "\n",
        "\n",
        "# Slice with negative indices\n",
        "\n",
        "\n",
        "# Reverse list\n",
        "\n",
        "\n"
      ],
      "metadata": {
        "id": "u76wHBz96DqL"
      },
      "execution_count": null,
      "outputs": []
    },
    {
      "cell_type": "markdown",
      "source": [
        "# Modifying List  "
      ],
      "metadata": {
        "id": "i_nzyrQP763R"
      }
    },
    {
      "cell_type": "code",
      "source": [
        "fruits = [\"apple\", \"banana\", \"cherry\"] # mutable(changeable)\n",
        "# Changing an element add blueberry at 1st index\n",
        "\n",
        "# Output: ['apple', 'blueberry', 'cherry']\n",
        "# Adding an element using append function add mango to the fruits list\n",
        "# append(): adding element to the end of list\n",
        "\n",
        "\n",
        "# Output: ['apple', 'blueberry', 'cherry’, 'mango']\n",
        "print(fruits)\n",
        "# Removing an element\n",
        "# pop removes last element\n",
        "\n",
        "print(fruits)\n",
        "# Output: ['apple', 'blueberry', 'mango']\n",
        "\n",
        "\n"
      ],
      "metadata": {
        "id": "8zwK9yPc6Dsk"
      },
      "execution_count": null,
      "outputs": []
    },
    {
      "cell_type": "code",
      "source": [
        "# count,reverse and sort functions\n",
        "fruits = [\"apple\", \"orange\", \"cherry\", \"apple\", \"mango\"]\n",
        "fruits.count('orange')\n",
        "print(fruits.sort())\n",
        "\n",
        "fruits\n",
        "# reverse\n",
        "fruits.reverse()\n",
        "fruits"
      ],
      "metadata": {
        "id": "_FORPM4v6DvQ"
      },
      "execution_count": null,
      "outputs": []
    },
    {
      "cell_type": "markdown",
      "source": [
        "# List Methods <br>\n"
      ],
      "metadata": {
        "id": "kdtRFtAP8ilO"
      }
    },
    {
      "cell_type": "code",
      "source": [
        "\"\"\"\n",
        "Method\t       Description                                         \tExample\n",
        "append(x)\t    Adds item x to the end of the list\t                   list.append(10)\n",
        "insert(i, x) \tInserts item x at position i\t                         list.insert(1, 20)\n",
        "remove(x)    \tRemoves the first occurrence of x\t                     list.remove(3)\n",
        "pop([i])    \tRemoves and returns item at index i,\n",
        "              or last item if i not given\t                           list.pop() or list.pop(2)\n",
        "clear()\t       Removes all items from the list\t                     list.clear()\n",
        "index(x)\t     Returns the index of the first occurrence of x\t       list.index(5)\n",
        "count(x)\t    Returns number of times x appears in the list\t         list.count(2)\n",
        "sort()\t      Sorts the list in ascending order (modifies in place)\t list.sort()\n",
        "sort(reverse=True)\tSorts the list in descending order\t             list.sort(reverse=True)\n",
        "sorted(list)\t  Returns a new sorted list                            sorted(list)\n",
        "reverse()\t     Reverses the list in-place\t                           list.reverse()\n",
        "\n",
        "\"\"\""
      ],
      "metadata": {
        "id": "nBgEeoJf6Dxg"
      },
      "execution_count": null,
      "outputs": []
    },
    {
      "cell_type": "markdown",
      "source": [
        "# Join Lists"
      ],
      "metadata": {
        "id": "SJEaCBqI9iXs"
      }
    },
    {
      "cell_type": "code",
      "source": [
        "list1 = [1, 2] # int\n",
        "list2 = [\"a\", \"b\"] # string\n",
        "# Using the + operator concatenate\n",
        "\n",
        " # using append method\n",
        "\n",
        "\n",
        "# Output: [1, 2, 'a', 'b', ”Hello”]\n",
        "# using extend method\n",
        "\n",
        "\n",
        "# add elements from one list to another list\n",
        "\n"
      ],
      "metadata": {
        "id": "JVQDeX456Dz5"
      },
      "execution_count": null,
      "outputs": []
    },
    {
      "cell_type": "code",
      "source": [],
      "metadata": {
        "id": "wEKeG5aZxLnC"
      },
      "execution_count": null,
      "outputs": []
    },
    {
      "cell_type": "code",
      "source": [
        "# create a list consisting of numbers between range 1 to 10\n",
        "\n"
      ],
      "metadata": {
        "id": "n1BApDcLxam5"
      },
      "execution_count": null,
      "outputs": []
    },
    {
      "cell_type": "code",
      "source": [
        "# create a list consisting of even 1 to 10\n"
      ],
      "metadata": {
        "id": "wT9AlHbCxaTs"
      },
      "execution_count": null,
      "outputs": []
    },
    {
      "cell_type": "markdown",
      "source": [
        "List Iterations"
      ],
      "metadata": {
        "id": "t4aj07GGy4Ua"
      }
    },
    {
      "cell_type": "code",
      "source": [
        "# iteration using for\n"
      ],
      "metadata": {
        "id": "vDCtdyN30jWG"
      },
      "execution_count": null,
      "outputs": []
    },
    {
      "cell_type": "markdown",
      "source": [
        " # List Comprehensions  <br>\n",
        "\n",
        " Syntax: <br>\n",
        "new_list = [expression for item in iterable if condition]\n"
      ],
      "metadata": {
        "id": "ni6zB_nR9xdt"
      }
    },
    {
      "cell_type": "code",
      "source": [
        "# Creating a list of squares:\n",
        "\n",
        "\n",
        "# list of 1 to 10\n",
        "\n",
        "\n",
        "# Filtering even numbers:\n",
        "\n",
        "\n",
        " # Applying a function to each element:\n",
        "\n",
        "# convert every element in upper case\n",
        "\n",
        "\n"
      ],
      "metadata": {
        "id": "PJugRY6m6D2f"
      },
      "execution_count": null,
      "outputs": []
    },
    {
      "cell_type": "markdown",
      "source": [
        "# Tuple in Python\n",
        "A tuple is a collection of items in Python that is ordered, unchangeable (immutable) and allow duplicate values."
      ],
      "metadata": {
        "id": "fzUW4zOC-F6g"
      }
    },
    {
      "cell_type": "markdown",
      "source": [
        "Create Tuple in Python"
      ],
      "metadata": {
        "id": "g-g9OVzL-Kz-"
      }
    },
    {
      "cell_type": "code",
      "source": [],
      "metadata": {
        "id": "Ij78jfai1WWK"
      },
      "execution_count": null,
      "outputs": []
    },
    {
      "cell_type": "code",
      "source": [
        "# 1.\tUsing Parentheses ()\n",
        "colors = (\"red\", \"green\", \"blue\")\n",
        "print(\"colors=\",colors)\n",
        "numbers = (1, 2, 3, 4, 5)\n",
        "print(\"numbers=\",numbers)\n",
        "mixed = (1, \"hello\", 3.14, True)\n",
        "print(\"mixed list items=\",mixed)\n",
        "nested = (1, [2, 3], (4, 5, 6))\n",
        "print(\"nested list =\",nested)\n",
        "# 2.\tWithout Parentheses (Comma-Separated) also_\n",
        "numbers = 1, 2, 3, 4, 5\n",
        "print(numbers)\n",
        "# 3.\t Using the tuple() Constructor\n",
        "new_tuple = tuple((\"apple\", \"banana\", \"cherry\"))\n",
        "print(new_tuple)\n",
        " # use double brackets\n",
        "list_items = [\"x\", \"y\", \"z\"]\n",
        "# Creating a tuple from a list\n",
        "tuple_items = tuple(list_items) # convert list to tuple\n",
        "print(tuple_items)\n",
        "# ('x', 'y', 'z’)\n",
        "# 4.\tSingle-Item Tuple tuple\n",
        "\n"
      ],
      "metadata": {
        "id": "s8I3rIXL-FIL"
      },
      "execution_count": null,
      "outputs": []
    },
    {
      "cell_type": "code",
      "source": [
        "# create tuple consisting of single element\n"
      ],
      "metadata": {
        "id": "zpsYUZRe2OXc"
      },
      "execution_count": null,
      "outputs": []
    },
    {
      "cell_type": "markdown",
      "source": [
        "# Accessing Tuple Elements"
      ],
      "metadata": {
        "id": "satajRX4_RFc"
      }
    },
    {
      "cell_type": "code",
      "source": [
        "fruits = (\"apple\", \"orange\", \"cherry\", \"apple\", \"mango\")\n",
        "# Access first element\n",
        "\n",
        "# Access third element\n",
        "\n",
        "\n",
        "# Access last element using negative index\n",
        "\n",
        "\n"
      ],
      "metadata": {
        "id": "c82HqOBO-FV3"
      },
      "execution_count": null,
      "outputs": []
    },
    {
      "cell_type": "markdown",
      "source": [
        "# Tuple Slicing\n",
        "\n",
        "Syntax: <br>\n",
        "tuple_name[start:stop:step]"
      ],
      "metadata": {
        "id": "FPfbxsVD_qEP"
      }
    },
    {
      "cell_type": "code",
      "source": [
        "numbers = (10, 20, 30, 40, 50, 60)\n",
        "# 60=-1,50,-2,\n",
        "# Slice from index 1 to 3\n",
        "\n",
        "\n",
        "\n",
        "# Slice from start to index 2\n",
        "\n",
        "\n",
        "# Slice all alternate\n",
        "\n",
        "\n",
        "# Slice with negative indices\n",
        "\n",
        "\n",
        "# Reverse list\n",
        "\n",
        "\n"
      ],
      "metadata": {
        "id": "u2KB1I3h-FYh"
      },
      "execution_count": null,
      "outputs": []
    },
    {
      "cell_type": "markdown",
      "source": [
        "# Tuple Operations\n"
      ],
      "metadata": {
        "id": "JJaDg9I5AFL5"
      }
    },
    {
      "cell_type": "code",
      "source": [
        "# 1.\tConcatenation\n",
        "# You can join two or more tuples using the + operator.\n",
        "\n",
        "tuple1 = (1, 2, 3)\n",
        "tuple2 = (4, 5)\n",
        "\n"
      ],
      "metadata": {
        "id": "qKi-TMD5-FbE"
      },
      "execution_count": null,
      "outputs": []
    },
    {
      "cell_type": "code",
      "source": [
        "a=5"
      ],
      "metadata": {
        "id": "zeo6QTac4oit"
      },
      "execution_count": null,
      "outputs": []
    },
    {
      "cell_type": "code",
      "source": [
        "# 2.\tRepetition\n",
        "# You can repeat a tuple multiple times using the * operator.\n",
        "\n"
      ],
      "metadata": {
        "id": "Q9P9TDppEC1x"
      },
      "execution_count": null,
      "outputs": []
    },
    {
      "cell_type": "code",
      "source": [
        "# in operator is membership operator"
      ],
      "metadata": {
        "id": "kVxnFYpb5Igl"
      },
      "execution_count": null,
      "outputs": []
    },
    {
      "cell_type": "code",
      "source": [
        "# 3.\tChecking for an Item\n",
        "# Use the in keyword to check if an item exists in a tuple.\n",
        "print(tuple1)\n",
        "\n"
      ],
      "metadata": {
        "id": "UshN4EKoECwY"
      },
      "execution_count": null,
      "outputs": []
    },
    {
      "cell_type": "markdown",
      "source": [
        "# Iterating Over Tuple"
      ],
      "metadata": {
        "id": "qPaHOzIKFZ1T"
      }
    },
    {
      "cell_type": "code",
      "source": [
        "fruits = (\"apple\", \"mango\", \"cherry\")\n",
        "# Using for loop\n",
        "\n",
        "\n",
        "\n",
        "# Using while loop\n",
        "\n",
        "\n",
        "\n",
        "# Tuple Methods\n",
        "# 1. count(x): Returns the number of times x appears in the tuple.\n",
        "tuple1.count(2)\n",
        "\n",
        "#2. index(x): Returns the first index of the value x. Raises an error if not found.\n",
        "\n",
        "fruits.index('cherry')\n"
      ],
      "metadata": {
        "id": "gsJ6AMj_FZgh"
      },
      "execution_count": null,
      "outputs": []
    },
    {
      "cell_type": "markdown",
      "source": [
        "# Tuple Functions"
      ],
      "metadata": {
        "id": "fp85hB_qPuzT"
      }
    },
    {
      "cell_type": "code",
      "source": [
        "\"\"\"\n",
        "# Functions of tuple\n",
        "function\t          Description\t                              Example\n",
        "len()\t         Returns the number of elements in the tuple\t  len((1, 2, 3)) → 3\n",
        "max()          Returns the maximum value\t                    max((3, 6, 1)) → 6\n",
        "min()\t         Returns the minimum value                     \tmin((3, 6, 1)) → 1\n",
        "sum()\t        Returns the sum of elements\t                   sum((3, 6, 1)) → 10\n",
        "sorted()\t    Returns a sorted list from the tuple\n",
        "                                                   sorted((3, 1, 2)) → [1, 2, 3]\n",
        "any()\t         Returns True if any element is True\t       any((0, 0, 1)) → True\n",
        "all()\t    Returns True if all elements are True\t           all((1, 2, 3)) → True\n",
        "tuple()  \tConverts iterable to a tuple\t            tuple([1, 2, 3]) → (1, 2, 3)\n",
        "\"\"\""
      ],
      "metadata": {
        "id": "HuER5_lBQsFC"
      },
      "execution_count": null,
      "outputs": []
    },
    {
      "cell_type": "code",
      "source": [
        "print(len((1, 2, 3))) # 3\n",
        "print(max((3, 6, 1))) # 6\n",
        "print(min((3, 6, 1))) # 1\n",
        "print(sum((3, 6, 1))) # 10\n",
        "print(sorted((3, 1, 2))) # 1,2,3\n",
        "print(any((0, 0, 1))) # True\n",
        "print(all((1, 2, 3))) # True\n",
        "print(tuple([1, 2, 3])) # converting list to tuple"
      ],
      "metadata": {
        "id": "pCGSt-Xn6D9R"
      },
      "execution_count": null,
      "outputs": []
    },
    {
      "cell_type": "code",
      "source": [
        "True and True"
      ],
      "metadata": {
        "id": "W56l4iM86Dt3"
      },
      "execution_count": null,
      "outputs": []
    },
    {
      "cell_type": "markdown",
      "source": [
        "# Set in Python\n",
        "Python A set is a collection of unique items in Python. Sets do not allow duplicate items and do not maintain any particular order so it can’t be indexed. <br>\n",
        "\n",
        "Characteristics of Sets: <br>\n",
        "• Unordered: Elements have no defined order. You cannot access elements by index.<br>\n",
        " • Unique Elements: No duplicates allowed. Each element must be distinct. <br>\n",
        "• Mutable: You can add or remove elements after creation. <br>\n",
        "• Immutable Elements: individual elements inside a set cannot be modified/replaced <br>"
      ],
      "metadata": {
        "id": "OLTU51mgReOv"
      }
    },
    {
      "cell_type": "markdown",
      "source": [
        "Create Set in Python"
      ],
      "metadata": {
        "id": "0oOem4QmSVza"
      }
    },
    {
      "cell_type": "code",
      "source": [],
      "metadata": {
        "id": "jJbOgZVS663E"
      },
      "execution_count": null,
      "outputs": []
    },
    {
      "cell_type": "code",
      "source": [
        "# 1.\tUsing Curly Braces {}\n",
        "my_set = {1, 2, 3, 4, 5,6,2,3} # integer set # unique\n",
        "print(my_set)\n",
        "# Output: {1, 2, 3, 4, 5}\n",
        "# 2.\tUsing the set() Constructor\n",
        "my_set = set([1, 2, 3, 4, 5])\n",
        "print(my_set)\n",
        "# Output: {1, 2, 3, 4, 5}\n",
        "# Creating an empty set\n",
        "empty_set = set()\n",
        "print(empty_set)\n",
        "# Output: set()\n"
      ],
      "metadata": {
        "id": "eE5PhRiqRB_W"
      },
      "execution_count": null,
      "outputs": []
    },
    {
      "cell_type": "code",
      "source": [
        "my_set"
      ],
      "metadata": {
        "id": "vItYHADl7Kwo"
      },
      "execution_count": null,
      "outputs": []
    },
    {
      "cell_type": "code",
      "source": [],
      "metadata": {
        "id": "tfr7HE537Khp"
      },
      "execution_count": null,
      "outputs": []
    },
    {
      "cell_type": "markdown",
      "source": [
        "Set Operations"
      ],
      "metadata": {
        "id": "dUU6BZx7SkgM"
      }
    },
    {
      "cell_type": "code",
      "source": [
        "# 1.\tAdding Elements : Use the add() method to add a single element to a set.\n",
        "fruits = {'apple', 'banana'}\n",
        "\n",
        "# Output: {'apple', 'banana', 'cherry’}\n",
        "# 2.\tRemoving Elements: Use the remove() or discard() methods to remove elements.\n",
        "# • remove() raises an error if the element is not found.\n",
        "# • discard() does not raise an error if the element is missing.\n",
        "\n",
        "\n",
        "\n",
        "# Using discard()\n",
        "\n",
        "\n"
      ],
      "metadata": {
        "id": "zIdA8ih3SlMr"
      },
      "execution_count": null,
      "outputs": []
    },
    {
      "cell_type": "markdown",
      "source": [
        "# Set Methods\n",
        "\n",
        "1.\tUnion: Combines elements from two sets, removing duplicates.<br>\n",
        "  \n",
        "  \n",
        "\n"
      ],
      "metadata": {
        "id": "OnEHh3i0TGgF"
      }
    },
    {
      "cell_type": "code",
      "source": [
        "# Union\n",
        "set_a = {1, 2, 3}\n",
        "set_b = {3, 4, 5}\n",
        "\n"
      ],
      "metadata": {
        "id": "ah3Cy5_rTY54"
      },
      "execution_count": null,
      "outputs": []
    },
    {
      "cell_type": "code",
      "source": [
        "# 2.\tIntersection: Includes only elements present in both sets.  <br>\n",
        "set_a = {1, 2, 3}\n",
        "set_b = {2, 3, 4}\n",
        "\n",
        "\n"
      ],
      "metadata": {
        "id": "QLGsNRFvcNCT"
      },
      "execution_count": null,
      "outputs": []
    },
    {
      "cell_type": "code",
      "source": [
        "\n",
        "# 3.\tDifference: Elements present in the first set but not in the second.\n",
        "# what is different in set a from set b\n",
        "set_a = {1, 2, 3, 4}\n",
        "set_b = {3, 4, 5}\n",
        "\n"
      ],
      "metadata": {
        "id": "NNViB0bMcW9F"
      },
      "execution_count": null,
      "outputs": []
    },
    {
      "cell_type": "code",
      "source": [
        "# 4.\tSymmetric Difference: Elements in either set, but not in both.\n",
        "set_a = {1, 2, 3}\n",
        "set_b = {3, 4, 5}\n"
      ],
      "metadata": {
        "id": "8xuNoGPIcZQ3"
      },
      "execution_count": null,
      "outputs": []
    },
    {
      "cell_type": "markdown",
      "source": [
        "# Dictionaries <br>\n",
        "Data is stored in key and value pair"
      ],
      "metadata": {
        "id": "kTeFU485CAvg"
      }
    },
    {
      "cell_type": "code",
      "source": [
        "# creating empty dictionary\n",
        "\n",
        "d1=dict()\n",
        "type(d1)\n",
        "\n"
      ],
      "metadata": {
        "id": "CcukaO6ECDoy"
      },
      "execution_count": null,
      "outputs": []
    },
    {
      "cell_type": "markdown",
      "source": [
        "keys()"
      ],
      "metadata": {
        "id": "fbaviJcoxHi4"
      }
    },
    {
      "cell_type": "code",
      "source": [
        "for i in my_dictionary.keys():\n",
        "  print(i)"
      ],
      "metadata": {
        "id": "cNQ2wizCDptp"
      },
      "execution_count": null,
      "outputs": []
    },
    {
      "cell_type": "markdown",
      "source": [
        "values()"
      ],
      "metadata": {
        "id": "xCgFlilKxJN5"
      }
    },
    {
      "cell_type": "code",
      "source": [
        "# access\n",
        "for i in my_dictionary.values():\n",
        "  print(i)"
      ],
      "metadata": {
        "id": "idaQWLFdCssZ"
      },
      "execution_count": null,
      "outputs": []
    },
    {
      "cell_type": "markdown",
      "source": [
        "items()"
      ],
      "metadata": {
        "id": "MQs2dbKtxK15"
      }
    },
    {
      "cell_type": "code",
      "source": [
        "for i in my_dictionary.items():\n",
        "  print(i)"
      ],
      "metadata": {
        "id": "UHKhHRw1DLyv"
      },
      "execution_count": null,
      "outputs": []
    },
    {
      "cell_type": "code",
      "source": [
        "# access single element\n",
        "my_dictionary['empid']\n",
        "my_dictionary['Salary']"
      ],
      "metadata": {
        "id": "85f114AyDTpH"
      },
      "execution_count": null,
      "outputs": []
    },
    {
      "cell_type": "code",
      "source": [
        "# add new pair\n",
        "my_dictionary['department']='HR'\n",
        "my_dictionary"
      ],
      "metadata": {
        "id": "07Axl1rdD1bX"
      },
      "execution_count": null,
      "outputs": []
    },
    {
      "cell_type": "code",
      "source": [
        "# remove element from dictionary\n",
        "my_dictionary.pop(411001)"
      ],
      "metadata": {
        "id": "e8RUxz9ID_nx"
      },
      "execution_count": null,
      "outputs": []
    },
    {
      "cell_type": "code",
      "source": [
        "my_dictionary"
      ],
      "metadata": {
        "id": "6kYIo2XQELBo"
      },
      "execution_count": null,
      "outputs": []
    },
    {
      "cell_type": "code",
      "source": [
        "# dictionary consisting student records\n",
        "\n",
        "student={\n",
        "    'rollnumber':[i for i in range(5)],\n",
        "    'names':['Alice','Bob','Clara','David','John'],\n",
        "    'location':['X','Y','P','Q','R']\n",
        "}\n",
        "student"
      ],
      "metadata": {
        "id": "DT1nzoW8EP2u"
      },
      "execution_count": null,
      "outputs": []
    },
    {
      "cell_type": "code",
      "source": [
        "import pandas as pd\n",
        "pd.DataFrame(student)"
      ],
      "metadata": {
        "id": "Casyr299Etru"
      },
      "execution_count": null,
      "outputs": []
    },
    {
      "cell_type": "code",
      "source": [],
      "metadata": {
        "id": "8C9I7aLYFA2C"
      },
      "execution_count": null,
      "outputs": []
    }
  ]
}